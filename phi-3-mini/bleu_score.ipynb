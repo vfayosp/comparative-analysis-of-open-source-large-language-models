{
 "cells": [
  {
   "cell_type": "code",
   "execution_count": 67,
   "metadata": {},
   "outputs": [],
   "source": [
    "import pandas as pd\n",
    "import re\n",
    "import ast"
   ]
  },
  {
   "cell_type": "code",
   "execution_count": 68,
   "metadata": {},
   "outputs": [],
   "source": [
    "phi_df = pd.read_csv(\"wikipedia_with_phi_3.csv\")"
   ]
  },
  {
   "cell_type": "code",
   "execution_count": 69,
   "metadata": {},
   "outputs": [
    {
     "data": {
      "text/plain": [
       "Index(['id', 'title', 'context', 'question', 'answers', 'phi_3'], dtype='object')"
      ]
     },
     "execution_count": 69,
     "metadata": {},
     "output_type": "execute_result"
    }
   ],
   "source": [
    "phi_df.columns"
   ]
  },
  {
   "cell_type": "code",
   "execution_count": 70,
   "metadata": {},
   "outputs": [],
   "source": [
    "def remove_multiple_lines(val):\n",
    "    if \"\\n\" in val:\n",
    "        val = val.split(\"\\n\")[0]\n",
    "    return val.strip()\n",
    "\n",
    "def format_answer(val):\n",
    "    return ast.literal_eval((re.search(r\"'text': array\\((\\[.*?\\])\", val).group(1)))[0]\n",
    "\n",
    "phi_df['phi_3'] = phi_df['phi_3'].apply(remove_multiple_lines)\n",
    "phi_df['answers'] = phi_df['answers'].apply(format_answer)"
   ]
  },
  {
   "cell_type": "code",
   "execution_count": 71,
   "metadata": {},
   "outputs": [
    {
     "name": "stderr",
     "output_type": "stream",
     "text": [
      "[nltk_data] Downloading package wordnet to /home/vfayos/nltk_data...\n",
      "[nltk_data]   Package wordnet is already up-to-date!\n"
     ]
    },
    {
     "data": {
      "text/plain": [
       "True"
      ]
     },
     "execution_count": 71,
     "metadata": {},
     "output_type": "execute_result"
    }
   ],
   "source": [
    "import nltk\n",
    "nltk.download('wordnet')"
   ]
  },
  {
   "cell_type": "code",
   "execution_count": 77,
   "metadata": {},
   "outputs": [
    {
     "name": "stderr",
     "output_type": "stream",
     "text": [
      "/tmp/ipykernel_32245/1330334429.py:18: FutureWarning: Setting an item of incompatible dtype is deprecated and will raise an error in a future version of pandas. Value '0.1724' has dtype incompatible with int64, please explicitly cast to a compatible dtype first.\n",
      "  phi_df.at[index, 'meteor_score'] = meteor_scr\n",
      "/tmp/ipykernel_32245/1330334429.py:16: FutureWarning: Setting an item of incompatible dtype is deprecated and will raise an error in a future version of pandas. Value '0.218' has dtype incompatible with int64, please explicitly cast to a compatible dtype first.\n",
      "  phi_df.at[index, 'bleu_score'] = bleu_scr\n",
      "/home/vfayos/anaconda3/envs/bleu/lib/python3.9/site-packages/nltk/translate/bleu_score.py:552: UserWarning: \n",
      "The hypothesis contains 0 counts of 3-gram overlaps.\n",
      "Therefore the BLEU score evaluates to 0, independently of\n",
      "how many N-gram overlaps of lower order it contains.\n",
      "Consider using lower n-gram order or use SmoothingFunction()\n",
      "  warnings.warn(_msg)\n",
      "/home/vfayos/anaconda3/envs/bleu/lib/python3.9/site-packages/nltk/translate/bleu_score.py:552: UserWarning: \n",
      "The hypothesis contains 0 counts of 4-gram overlaps.\n",
      "Therefore the BLEU score evaluates to 0, independently of\n",
      "how many N-gram overlaps of lower order it contains.\n",
      "Consider using lower n-gram order or use SmoothingFunction()\n",
      "  warnings.warn(_msg)\n",
      "/home/vfayos/anaconda3/envs/bleu/lib/python3.9/site-packages/nltk/translate/bleu_score.py:552: UserWarning: \n",
      "The hypothesis contains 0 counts of 2-gram overlaps.\n",
      "Therefore the BLEU score evaluates to 0, independently of\n",
      "how many N-gram overlaps of lower order it contains.\n",
      "Consider using lower n-gram order or use SmoothingFunction()\n",
      "  warnings.warn(_msg)\n"
     ]
    }
   ],
   "source": [
    "from nltk.translate.bleu_score import sentence_bleu\n",
    "from rouge_score import rouge_scorer\n",
    "from nltk.translate.meteor_score import meteor_score\n",
    "\n",
    "phi_df['bleu_score'] = 0\n",
    "#phi_df['rouge_score'] = 0\n",
    "phi_df['meteor_score'] = 0\n",
    "\n",
    "scorer = rouge_scorer.RougeScorer(['rouge1', 'rouge2', 'rougeL'], use_stemmer=True)\n",
    "\n",
    "for index, row in phi_df.iterrows():\n",
    "    bleu_scr = round(sentence_bleu([row['answers'].split(' ')], row['phi_3'].split(' ')), 4)\n",
    "    #rougue_scr = round(rougue_score([row['answers'].split(' ')], row['phi_3'].split(' ')), 4)\n",
    "    meteor_scr = round(meteor_score([row['answers'].split(' ')], row['phi_3'].split(' ')), 4)\n",
    "    \n",
    "    phi_df.at[index, 'bleu_score'] = bleu_scr\n",
    "    #row['rouge_score'] = rougue_scr\n",
    "    phi_df.at[index, 'meteor_score'] = meteor_scr\n"
   ]
  },
  {
   "cell_type": "code",
   "execution_count": 76,
   "metadata": {},
   "outputs": [
    {
     "name": "stdout",
     "output_type": "stream",
     "text": [
      "0.3439084\n"
     ]
    }
   ],
   "source": [
    "print(sum(phi_df['meteor_score'])/1000)"
   ]
  }
 ],
 "metadata": {
  "kernelspec": {
   "display_name": "phi-3",
   "language": "python",
   "name": "python3"
  },
  "language_info": {
   "codemirror_mode": {
    "name": "ipython",
    "version": 3
   },
   "file_extension": ".py",
   "mimetype": "text/x-python",
   "name": "python",
   "nbconvert_exporter": "python",
   "pygments_lexer": "ipython3",
   "version": "3.9.19"
  }
 },
 "nbformat": 4,
 "nbformat_minor": 2
}
